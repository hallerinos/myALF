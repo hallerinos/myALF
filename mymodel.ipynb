{
 "cells": [
  {
   "cell_type": "code",
   "execution_count": null,
   "metadata": {},
   "outputs": [],
   "source": [
    "from py_alf import ALF_source, Simulation"
   ]
  },
  {
   "cell_type": "code",
   "execution_count": 175,
   "metadata": {},
   "outputs": [],
   "source": [
    "tys = range(0, 3)\n",
    "tasks_per_dict = 1\n",
    "nsweep = 100\n",
    "nbin = 20\n",
    "lx = 42\n",
    "lys = [1,2,3,4]\n",
    "sim_dicts = [{\n",
    "             \"n_exchange_steps\": 0, \n",
    "             \"mpi_per_parameter_set\": tasks_per_dict, \n",
    "            #  \"NSweep\": nsweep,\n",
    "            #  \"NBin\": nbin,\n",
    "             \"lattice_type\": \"Square\", \n",
    "             \"l1\": lx, \"l2\": ly, \n",
    "             \"ham_ty\": ty\n",
    "             }\n",
    "            for ty in tys for ly in lys]\n",
    "sim = Simulation(\n",
    "        ALF_source(),\n",
    "        \"Hubbard_Plain_Vanilla\",\n",
    "        sim_dict = sim_dicts,\n",
    "        n_mpi = len(sim_dicts)*tasks_per_dict,\n",
    "        machine='GNU',  # Change to \"intel\", or \"PGI\" if gfortran is not installed\n",
    "        # mpiexec_args=['--oversubscribe']\n",
    "        )"
   ]
  },
  {
   "cell_type": "code",
   "execution_count": 176,
   "metadata": {},
   "outputs": [
    {
     "name": "stdout",
     "output_type": "stream",
     "text": [
      "Prepare directory \"/home/andreas/myALF/ALF_data/temper_Hubbard_Plain_Vanilla_Square_l1=42_l2=1_ty=0\" for Monte Carlo run.\n",
      "Prepare directory \"/home/andreas/myALF/ALF_data/temper_Hubbard_Plain_Vanilla_Square_l1=42_l2=1_ty=0/Temp_0\" for Monte Carlo run.\n",
      "Resuming previous run.\n",
      "Prepare directory \"/home/andreas/myALF/ALF_data/temper_Hubbard_Plain_Vanilla_Square_l1=42_l2=1_ty=0/Temp_1\" for Monte Carlo run.\n",
      "Resuming previous run.\n",
      "Prepare directory \"/home/andreas/myALF/ALF_data/temper_Hubbard_Plain_Vanilla_Square_l1=42_l2=1_ty=0/Temp_2\" for Monte Carlo run.\n",
      "Resuming previous run.\n",
      "Prepare directory \"/home/andreas/myALF/ALF_data/temper_Hubbard_Plain_Vanilla_Square_l1=42_l2=1_ty=0/Temp_3\" for Monte Carlo run.\n",
      "Resuming previous run.\n",
      "Prepare directory \"/home/andreas/myALF/ALF_data/temper_Hubbard_Plain_Vanilla_Square_l1=42_l2=1_ty=0/Temp_4\" for Monte Carlo run.\n",
      "Resuming previous run.\n",
      "Prepare directory \"/home/andreas/myALF/ALF_data/temper_Hubbard_Plain_Vanilla_Square_l1=42_l2=1_ty=0/Temp_5\" for Monte Carlo run.\n",
      "Resuming previous run.\n",
      "Prepare directory \"/home/andreas/myALF/ALF_data/temper_Hubbard_Plain_Vanilla_Square_l1=42_l2=1_ty=0/Temp_6\" for Monte Carlo run.\n",
      "Resuming previous run.\n",
      "Prepare directory \"/home/andreas/myALF/ALF_data/temper_Hubbard_Plain_Vanilla_Square_l1=42_l2=1_ty=0/Temp_7\" for Monte Carlo run.\n",
      "Resuming previous run.\n",
      "Prepare directory \"/home/andreas/myALF/ALF_data/temper_Hubbard_Plain_Vanilla_Square_l1=42_l2=1_ty=0/Temp_8\" for Monte Carlo run.\n",
      "Resuming previous run.\n",
      "Prepare directory \"/home/andreas/myALF/ALF_data/temper_Hubbard_Plain_Vanilla_Square_l1=42_l2=1_ty=0/Temp_9\" for Monte Carlo run.\n",
      "Resuming previous run.\n",
      "Prepare directory \"/home/andreas/myALF/ALF_data/temper_Hubbard_Plain_Vanilla_Square_l1=42_l2=1_ty=0/Temp_10\" for Monte Carlo run.\n",
      "Resuming previous run.\n",
      "Prepare directory \"/home/andreas/myALF/ALF_data/temper_Hubbard_Plain_Vanilla_Square_l1=42_l2=1_ty=0/Temp_11\" for Monte Carlo run.\n",
      "Resuming previous run.\n",
      "Run /home/andreas/myALF/ALF/Prog/ALF.out\n"
     ]
    },
    {
     "name": "stderr",
     "output_type": "stream",
     "text": [
      "No protocol specified\n"
     ]
    },
    {
     "name": "stdout",
     "output_type": "stream",
     "text": [
      " ALF Copyright (C) 2016 - 2021 The ALF project contributors\n",
      " This Program comes with ABSOLUTELY NO WARRANTY; for details see license.GPL\n",
      " This is free software, and you are welcome to redistribute it under certain conditions.\n"
     ]
    }
   ],
   "source": [
    "# sim.compile()  # this is only needed if no crutial changes in sim dict have been made\n",
    "sim.run()\n",
    "sim.analysis()"
   ]
  },
  {
   "cell_type": "code",
   "execution_count": null,
   "metadata": {},
   "outputs": [],
   "source": [
    "# ALF_source().get_default_params(\"Hubbard_Plain_Vanilla\")\n",
    "# sim.analysis()\n",
    "obs = sim.get_obs()"
   ]
  },
  {
   "cell_type": "code",
   "execution_count": null,
   "metadata": {},
   "outputs": [],
   "source": [
    "import numpy as np\n",
    "import matplotlib.pyplot as plt\n",
    "import matplotlib as mpl\n",
    "plt.rcParams.update({\n",
    "    \"text.usetex\": True,\n",
    "    \"font.family\": \"sans-serif\",\n",
    "    \"font.sans-serif\": [\"Helvetica\"]})\n",
    "mpl.rcParams['figure.dpi'] = 200\n",
    "\n",
    "ax = plt.subplot()\n",
    "tys = np.unique(obs['ham_ty'])\n",
    "l1s = np.unique(obs['l1'])\n",
    "l2s = np.unique(obs['l2'])\n",
    "# print(tys, l1s, l2s)\n",
    "for ty in [0]:\n",
    "    for l1 in [42]:\n",
    "        for l2 in lys:\n",
    "            data = obs[(obs['ham_ty'] == ty) & (obs['l1'] == l1)  & (obs['l2'] == l2)]\n",
    "            spin_corr = np.asarray(data[\"SpinT_eqR\"].iloc[0][0,0])\n",
    "            spin_corr_err = np.asarray(data[\"SpinT_eqR_err\"].iloc[0][0,0])\n",
    "            X = np.asarray(range(0, len(spin_corr)//l2)) - l1//2\n",
    "            for y in range(0, l2):\n",
    "                Y = spin_corr[y::l2]\n",
    "                dY = spin_corr_err[y::l2]\n",
    "                ax.errorbar(abs(X), abs(Y), dY)\n",
    "                ax.scatter(abs(X), abs(Y), label=f\"$t_y={ty}, l_x={l1}, l_y={l2}, y={y}$\")\n",
    "                # ax.errorbar(X, (Y), dY)\n",
    "                # ax.scatter(X, (Y), label=f\"$t_y={ty}, l_x={l1}, l_y={l2}, y={y}$\")\n",
    "ax.legend(loc='lower center', bbox_to_anchor=(0.5, 1.05), ncol=3)\n",
    "ax.set_xlabel('$r/a$')\n",
    "ax.set_yscale('log')\n",
    "ax.set_ylabel('$\\\\langle \\hat \\sigma_{z,(0,0)} \\hat \\sigma_{z,(x,y)}\\\\rangle$')"
   ]
  },
  {
   "cell_type": "code",
   "execution_count": null,
   "metadata": {},
   "outputs": [],
   "source": []
  }
 ],
 "metadata": {
  "interpreter": {
   "hash": "e7370f93d1d0cde622a1f8e1c04877d8463912d04d973331ad4851f04de6915a"
  },
  "kernelspec": {
   "display_name": "Python 3.8.10 64-bit",
   "language": "python",
   "name": "python3"
  },
  "language_info": {
   "codemirror_mode": {
    "name": "ipython",
    "version": 3
   },
   "file_extension": ".py",
   "mimetype": "text/x-python",
   "name": "python",
   "nbconvert_exporter": "python",
   "pygments_lexer": "ipython3",
   "version": "3.8.10"
  },
  "orig_nbformat": 4
 },
 "nbformat": 4,
 "nbformat_minor": 2
}
