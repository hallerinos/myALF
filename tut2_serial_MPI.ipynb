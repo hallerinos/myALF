{
 "cells": [
  {
   "cell_type": "markdown",
   "metadata": {},
   "source": [
    "## Launch a series of MPI runs\n",
    "Here, we load the source of ALF and create a simple simulation of the 2D Hubbard model \n",
    "$$\n",
    "    H = \\sum_{\\braket{i,j},\\sigma} t_i c_{i,\\sigma}^\\dag c_{j,\\sigma} + U \\sum_i n_{i,\\uparrow}n_{i,\\downarrow}\n",
    "$$\n",
    "which uses 4 MPI tasks to obtain better statistics."
   ]
  },
  {
   "cell_type": "code",
   "execution_count": 1,
   "metadata": {},
   "outputs": [],
   "source": [
    "from py_alf import ALF_source, Simulation"
   ]
  },
  {
   "cell_type": "code",
   "execution_count": 2,
   "metadata": {},
   "outputs": [],
   "source": [
    "alf_src = ALF_source()"
   ]
  },
  {
   "cell_type": "markdown",
   "metadata": {},
   "source": [
    "This loop generates 3 different simulations, one for each $\\tau\\in\\{0.05,0.1,0.15\\}$."
   ]
  },
  {
   "cell_type": "code",
   "execution_count": 11,
   "metadata": {},
   "outputs": [
    {
     "name": "stdout",
     "output_type": "stream",
     "text": [
      "Compiling ALF... \n",
      "Cleaning up Prog/\n",
      "Cleaning up Libraries/\n",
      "Cleaning up Analysis/\n",
      "Compiling Libraries\n"
     ]
    },
    {
     "name": "stderr",
     "output_type": "stream",
     "text": [
      "ar: creating modules_90.a\n",
      "ar: creating libqrref.a\n"
     ]
    },
    {
     "name": "stdout",
     "output_type": "stream",
     "text": [
      "Compiling Analysis\n",
      "Compiling Program\n",
      "Parsing Hamiltonian parameters\n",
      "filename: Hamiltonians/Hamiltonian_Kondo_smod.F90\n",
      "filename: Hamiltonians/Hamiltonian_Hubbard_smod.F90\n",
      "filename: Hamiltonians/Hamiltonian_Hubbard_Plain_Vanilla_smod.F90\n",
      "filename: Hamiltonians/Hamiltonian_tV_smod.F90\n",
      "filename: Hamiltonians/Hamiltonian_LRC_smod.F90\n",
      "filename: Hamiltonians/Hamiltonian_Z2_Matter_smod.F90\n",
      "Compiling program modules\n",
      "Link program\n",
      "Done.\n"
     ]
    }
   ],
   "source": [
    "sims = [\n",
    "    Simulation(\n",
    "        alf_src,\n",
    "        'Hubbard',\n",
    "        {\n",
    "            # Model specific parameters\n",
    "            'L1': 6,\n",
    "            'L2': 6,\n",
    "            'Ham_U': U,\n",
    "            # QMC parameters\n",
    "            'Nbin': 20,\n",
    "        },\n",
    "        mpi=True,\n",
    "        n_mpi=4  # ,\n",
    "        # mpiexec='orterun',\n",
    "    )\n",
    "    for U in [0.2, 0.4, 0.6, 0.8]]\n",
    "\n",
    "sims[0].compile()  # this is only needed if no crutial changes in sim dict have been made"
   ]
  },
  {
   "cell_type": "code",
   "execution_count": 12,
   "metadata": {},
   "outputs": [
    {
     "name": "stdout",
     "output_type": "stream",
     "text": [
      "Prepare directory \"/home/andreas/myALF/ALF_data/Hubbard_L1=6_L2=6_U=0.2\" for Monte Carlo run.\n",
      "Resuming previous run.\n",
      "Run /home/andreas/myALF/ALF/Prog/ALF.out\n"
     ]
    },
    {
     "name": "stderr",
     "output_type": "stream",
     "text": [
      "No protocol specified\n"
     ]
    },
    {
     "name": "stdout",
     "output_type": "stream",
     "text": [
      " ALF Copyright (C) 2016 - 2021 The ALF project contributors\n",
      " This Program comes with ABSOLUTELY NO WARRANTY; for details see license.GPL\n",
      " This is free software, and you are welcome to redistribute it under certain conditions.\n",
      "Prepare directory \"/home/andreas/myALF/ALF_data/Hubbard_L1=6_L2=6_U=0.4\" for Monte Carlo run.\n",
      "Resuming previous run.\n",
      "Run /home/andreas/myALF/ALF/Prog/ALF.out\n"
     ]
    },
    {
     "name": "stderr",
     "output_type": "stream",
     "text": [
      "No protocol specified\n"
     ]
    },
    {
     "name": "stdout",
     "output_type": "stream",
     "text": [
      " ALF Copyright (C) 2016 - 2021 The ALF project contributors\n",
      " This Program comes with ABSOLUTELY NO WARRANTY; for details see license.GPL\n",
      " This is free software, and you are welcome to redistribute it under certain conditions.\n",
      "Prepare directory \"/home/andreas/myALF/ALF_data/Hubbard_L1=6_L2=6_U=0.6\" for Monte Carlo run.\n",
      "Resuming previous run.\n",
      "Run /home/andreas/myALF/ALF/Prog/ALF.out\n"
     ]
    },
    {
     "name": "stderr",
     "output_type": "stream",
     "text": [
      "No protocol specified\n"
     ]
    },
    {
     "name": "stdout",
     "output_type": "stream",
     "text": [
      " ALF Copyright (C) 2016 - 2021 The ALF project contributors\n",
      " This Program comes with ABSOLUTELY NO WARRANTY; for details see license.GPL\n",
      " This is free software, and you are welcome to redistribute it under certain conditions.\n",
      "Prepare directory \"/home/andreas/myALF/ALF_data/Hubbard_L1=6_L2=6_U=0.8\" for Monte Carlo run.\n",
      "Resuming previous run.\n",
      "Run /home/andreas/myALF/ALF/Prog/ALF.out\n"
     ]
    },
    {
     "name": "stderr",
     "output_type": "stream",
     "text": [
      "No protocol specified\n"
     ]
    },
    {
     "name": "stdout",
     "output_type": "stream",
     "text": [
      " ALF Copyright (C) 2016 - 2021 The ALF project contributors\n",
      " This Program comes with ABSOLUTELY NO WARRANTY; for details see license.GPL\n",
      " This is free software, and you are welcome to redistribute it under certain conditions.\n"
     ]
    }
   ],
   "source": [
    "for sim in sims:\n",
    "    sim.run()"
   ]
  },
  {
   "cell_type": "code",
   "execution_count": 15,
   "metadata": {},
   "outputs": [
    {
     "name": "stdout",
     "output_type": "stream",
     "text": [
      "Help on method analysis in module py_alf.simulation:\n",
      "\n",
      "analysis(python_version=True, **kwargs) method of py_alf.simulation.Simulation instance\n",
      "    Perform default analysis on Monte Carlo data.\n",
      "    \n",
      "    Calls :func:`py_alf.analysis`, if run with `python_version=True`.\n",
      "    \n",
      "    Parameters\n",
      "    ----------\n",
      "    python_version : bool, default=True\n",
      "        Use python version of analysis.\n",
      "        The non-python version is legacy and does not support all\n",
      "        postprocessing features.\n",
      "    **kwargs : dict, optional\n",
      "        Extra arguments for :func:`py_alf.analysis`, if run with\n",
      "        `python_version=True`.\n",
      "\n"
     ]
    }
   ],
   "source": [
    "help(sim.analysis)"
   ]
  },
  {
   "cell_type": "code",
   "execution_count": null,
   "metadata": {},
   "outputs": [],
   "source": []
  }
 ],
 "metadata": {
  "interpreter": {
   "hash": "767d51c1340bd893661ea55ea3124f6de3c7a262a8b4abca0554b478b1e2ff90"
  },
  "kernelspec": {
   "display_name": "Python 3.8.10 64-bit",
   "language": "python",
   "name": "python3"
  },
  "language_info": {
   "codemirror_mode": {
    "name": "ipython",
    "version": 3
   },
   "file_extension": ".py",
   "mimetype": "text/x-python",
   "name": "python",
   "nbconvert_exporter": "python",
   "pygments_lexer": "ipython3",
   "version": "3.8.10"
  },
  "orig_nbformat": 4
 },
 "nbformat": 4,
 "nbformat_minor": 2
}
