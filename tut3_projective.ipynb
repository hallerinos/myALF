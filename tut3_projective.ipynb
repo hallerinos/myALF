{
 "cells": [
  {
   "cell_type": "markdown",
   "metadata": {},
   "source": [
    "## Projective algorithm"
   ]
  },
  {
   "cell_type": "code",
   "execution_count": null,
   "metadata": {},
   "outputs": [],
   "source": [
    "from py_alf import ALF_source, Simulation"
   ]
  },
  {
   "cell_type": "markdown",
   "metadata": {},
   "source": [
    "This loop generates 3 different simulations, one for each $\\tau\\in\\{0.05,0.1,0.15\\}$."
   ]
  },
  {
   "cell_type": "code",
   "execution_count": null,
   "metadata": {},
   "outputs": [],
   "source": [
    "import os\n",
    "# dtaus = [0.05, 0.1, 0.15]\n",
    "dtaus = [0.05]\n",
    "thetas = [5, 10, 20]\n",
    "sims = [\n",
    "    Simulation(\n",
    "        ALF_source(),\n",
    "        'Hubbard',\n",
    "        {\n",
    "            'Model': 'Hubbard',\n",
    "            'Lattice_type': 'N_leg_ladder',\n",
    "            'L1': 4,\n",
    "            'L2': 1,\n",
    "            'Checkerboard': False,\n",
    "            'Symm': True,\n",
    "            'Projector': True,\n",
    "            'Theta':theta,\n",
    "            'ham_T': 1.0,\n",
    "            'ham_U': 4.0,\n",
    "            'ham_Tperp': 0.0,\n",
    "            'beta': 1.0,\n",
    "            'Ltau': 0,\n",
    "            'NSweep': 500,\n",
    "            'NBin': 10,\n",
    "            'Dtau': dtau,\n",
    "            'Mz': True,\n",
    "        },\n",
    "    )\n",
    "    for dtau in dtaus for theta in thetas]\n",
    "\n",
    "# sims[0].compile()  # this is only needed if no crutial changes in sim dict have been made"
   ]
  },
  {
   "cell_type": "code",
   "execution_count": 8,
   "metadata": {},
   "outputs": [],
   "source": [
    "for sim in sims:\n",
    "    sim.run()"
   ]
  },
  {
   "cell_type": "code",
   "execution_count": 9,
   "metadata": {},
   "outputs": [
    {
     "name": "stdout",
     "output_type": "stream",
     "text": [
      "### Analyzing /home/andreas/myALF/ALF_data/Hubbard_N_leg_ladder_L1=4_L2=1_Checkerboard=False_Symm=True_Projector=True_Theta=5_T=1.0_U=4.0_Tperp=0.0_beta=1.0_Dtau=0.05_Mz=True ###\n",
      "/home/andreas/myALF\n",
      "Scalar observables:\n",
      "Ener_scal\n",
      "Kin_scal\n",
      "Part_scal\n",
      "Pot_scal\n",
      "Histogram observables:\n",
      "Equal time observables:\n",
      "Den_eq\n",
      "Green_eq\n",
      "SpinT_eq\n",
      "SpinXY_eq\n",
      "SpinZ_eq\n",
      "Time displaced observables:\n",
      "/home/andreas/myALF/ALF_data/Hubbard_N_leg_ladder_L1=4_L2=1_Checkerboard=False_Symm=True_Projector=True_Theta=5_T=1.0_U=4.0_Tperp=0.0_beta=1.0_Dtau=0.05_Mz=True\n",
      "### Analyzing /home/andreas/myALF/ALF_data/Hubbard_N_leg_ladder_L1=4_L2=1_Checkerboard=False_Symm=True_Projector=True_Theta=10_T=1.0_U=4.0_Tperp=0.0_beta=1.0_Dtau=0.05_Mz=True ###\n",
      "/home/andreas/myALF\n",
      "Scalar observables:\n",
      "Ener_scal\n",
      "Kin_scal\n",
      "Part_scal\n",
      "Pot_scal\n",
      "Histogram observables:\n",
      "Equal time observables:\n",
      "Den_eq\n",
      "Green_eq\n",
      "SpinT_eq\n",
      "SpinXY_eq\n",
      "SpinZ_eq\n",
      "Time displaced observables:\n",
      "/home/andreas/myALF/ALF_data/Hubbard_N_leg_ladder_L1=4_L2=1_Checkerboard=False_Symm=True_Projector=True_Theta=10_T=1.0_U=4.0_Tperp=0.0_beta=1.0_Dtau=0.05_Mz=True\n",
      "### Analyzing /home/andreas/myALF/ALF_data/Hubbard_N_leg_ladder_L1=4_L2=1_Checkerboard=False_Symm=True_Projector=True_Theta=20_T=1.0_U=4.0_Tperp=0.0_beta=1.0_Dtau=0.05_Mz=True ###\n",
      "/home/andreas/myALF\n",
      "Scalar observables:\n",
      "Ener_scal\n",
      "Kin_scal\n",
      "Part_scal\n",
      "Pot_scal\n",
      "Histogram observables:\n",
      "Equal time observables:\n",
      "Den_eq\n",
      "Green_eq\n",
      "SpinT_eq\n",
      "SpinXY_eq\n",
      "SpinZ_eq\n",
      "Time displaced observables:\n",
      "/home/andreas/myALF/ALF_data/Hubbard_N_leg_ladder_L1=4_L2=1_Checkerboard=False_Symm=True_Projector=True_Theta=20_T=1.0_U=4.0_Tperp=0.0_beta=1.0_Dtau=0.05_Mz=True\n"
     ]
    }
   ],
   "source": [
    "import pandas as pd\n",
    "\n",
    "df = pd.DataFrame(columns=['E', 'dE', 'dtau', 'theta', 'cb', 's', 'mz'])\n",
    "for sim in sims:\n",
    "    sim.analysis()\n",
    "    dict = sim.sim_dict\n",
    "    obs = sim.get_obs()\n",
    "    dtau = dict['Dtau']\n",
    "    cb = dict['Checkerboard']\n",
    "    s = dict['Symm']\n",
    "    mz = dict['Mz']\n",
    "    theta = dict['Theta']\n",
    "    val = obs['Ener_scal0'].iloc[0]\n",
    "    err = obs['Ener_scal0_err'].iloc[0]\n",
    "    df = df.append({'E': val, 'dE': err, 'dtau': dtau, 'theta': theta, 'cb': cb, 's': s, 'Mz': mz}, ignore_index=True)\n"
   ]
  },
  {
   "cell_type": "code",
   "execution_count": 10,
   "metadata": {},
   "outputs": [
    {
     "name": "stderr",
     "output_type": "stream",
     "text": [
      "No handles with labels found to put in legend.\n"
     ]
    },
    {
     "data": {
      "image/png": "[encoded data removed]",
      "text/plain": [
       "<Figure size 506.25x506.25 with 1 Axes>"
      ]
     },
     "metadata": {
      "needs_background": "light"
     },
     "output_type": "display_data"
    }
   ],
   "source": [
    "import matplotlib.pyplot as plt\n",
    "import matplotlib as mpl\n",
    "import numpy as np\n",
    "\n",
    "plt.rcParams.update({\n",
    "    \"text.usetex\": True,\n",
    "    \"font.family\": \"sans-serif\",\n",
    "    \"font.sans-serif\": [\"Helvetica\"]})\n",
    "mpl.rcParams['figure.dpi'] = 150\n",
    "figsize=np.asarray(((3+3/8), (3+3/8)))\n",
    "\n",
    "plt.figure(figsize=figsize)\n",
    "ax = plt.subplot()\n",
    "# for theta in thetas:\n",
    "#         data = df[(df['theta']==theta)]\n",
    "#         ax.errorbar(data['theta'], data['E'], data['dE'])\n",
    "ax.errorbar(1/df['theta'], df['E'], df['dE'])\n",
    "ax.legend()\n",
    "ax.set_xlabel('$\\\\theta^{-1}$')\n",
    "ax.set_ylabel('$E/t$')\n",
    "plt.show()"
   ]
  },
  {
   "cell_type": "code",
   "execution_count": null,
   "metadata": {},
   "outputs": [],
   "source": []
  }
 ],
 "metadata": {
  "interpreter": {
   "hash": "767d51c1340bd893661ea55ea3124f6de3c7a262a8b4abca0554b478b1e2ff90"
  },
  "kernelspec": {
   "display_name": "Python 3.8.10 64-bit",
   "language": "python",
   "name": "python3"
  },
  "language_info": {
   "codemirror_mode": {
    "name": "ipython",
    "version": 3
   },
   "file_extension": ".py",
   "mimetype": "text/x-python",
   "name": "python",
   "nbconvert_exporter": "python",
   "pygments_lexer": "ipython3",
   "version": "3.8.10"
  },
  "orig_nbformat": 4
 },
 "nbformat": 4,
 "nbformat_minor": 2
}
