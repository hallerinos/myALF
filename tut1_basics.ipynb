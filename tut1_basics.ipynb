{
 "cells": [
  {
   "cell_type": "markdown",
   "metadata": {},
   "source": [
    "## setting up the simulatioin requires to load py_alf\n",
    "for the first tutorial, we only load the source of ALF and create a simple simulation of the 2D Hubbard model \n",
    "$$\n",
    "    H = \\sum_{\\braket{i,j},\\sigma} t_i c_{i,\\sigma}^\\dag c_{j,\\sigma} + U \\sum_i n_{i,\\uparrow}n_{i,\\downarrow}\n",
    "$$"
   ]
  },
  {
   "cell_type": "code",
   "execution_count": null,
   "metadata": {},
   "outputs": [],
   "source": [
    "from py_alf import Simulation"
   ]
  },
  {
   "cell_type": "markdown",
   "metadata": {},
   "source": [
    "This loop generates 3 different simulations, one for each $\\tau\\in\\{0.05,0.1,0.15\\}$."
   ]
  },
  {
   "cell_type": "code",
   "execution_count": null,
   "metadata": {},
   "outputs": [],
   "source": [
    "sims = []\n",
    "for dtau in [0.05, 0.1, 0.15]:\n",
    "    print(dtau)\n",
    "    sim = Simulation(\n",
    "        \"Hubbard\",                    # Name of Hamiltonian\n",
    "        {                             # Dictionary overwriting default parameters\n",
    "            \"Lattice_type\": \"Square\",\n",
    "            \"L1\": 4,\n",
    "            \"L2\": 4,\n",
    "            'Dtau': dtau\n",
    "        },\n",
    "        machine='GNU'  # Change to \"intel\", or \"PGI\" if gfortran is not installed\n",
    "    )\n",
    "    sims.append(sim)"
   ]
  },
  {
   "cell_type": "code",
   "execution_count": null,
   "metadata": {},
   "outputs": [],
   "source": [
    "import os\n",
    "if not os.path.isdir('ALF'):\n",
    "    sim.compile()  # this is only needed if ALF directory does not exist"
   ]
  },
  {
   "cell_type": "code",
   "execution_count": null,
   "metadata": {},
   "outputs": [],
   "source": [
    "obsA = []\n",
    "for sim in sims:\n",
    "    sim.run()\n",
    "    sim.analysis()\n",
    "    obs = sim.get_obs()\n",
    "    obsA.append(obs)"
   ]
  },
  {
   "cell_type": "code",
   "execution_count": null,
   "metadata": {},
   "outputs": [],
   "source": []
  }
 ],
 "metadata": {
  "interpreter": {
   "hash": "767d51c1340bd893661ea55ea3124f6de3c7a262a8b4abca0554b478b1e2ff90"
  },
  "kernelspec": {
   "display_name": "Python 3.8.10 64-bit",
   "language": "python",
   "name": "python3"
  },
  "language_info": {
   "codemirror_mode": {
    "name": "ipython",
    "version": 3
   },
   "file_extension": ".py",
   "mimetype": "text/x-python",
   "name": "python",
   "nbconvert_exporter": "python",
   "pygments_lexer": "ipython3",
   "version": "3.8.10"
  },
  "orig_nbformat": 4
 },
 "nbformat": 4,
 "nbformat_minor": 2
}
