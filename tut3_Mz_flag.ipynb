{
 "cells": [
  {
   "cell_type": "markdown",
   "metadata": {},
   "source": [
    "## Trotter error extrapolation for different $M_z$ choices"
   ]
  },
  {
   "cell_type": "code",
   "execution_count": null,
   "metadata": {},
   "outputs": [],
   "source": [
    "from py_alf import Simulation"
   ]
  },
  {
   "cell_type": "markdown",
   "metadata": {},
   "source": [
    "This loop generates 3 different simulations, one for each $\\tau\\in\\{0.05,0.1,0.15\\}$."
   ]
  },
  {
   "cell_type": "code",
   "execution_count": null,
   "metadata": {},
   "outputs": [],
   "source": [
    "import os\n",
    "sims = [\n",
    "    Simulation(\n",
    "        'Hubbard',\n",
    "        {\n",
    "            'L1': 6,\n",
    "            'L2': 2,\n",
    "            'Checkerboard': True,\n",
    "            'Symm': True,\n",
    "            'Mz': b1,\n",
    "            'Ham_T': 1.0,\n",
    "            'Ham_U': 4.0,\n",
    "            'Ham_Tperp': 4.0,\n",
    "            'beta': 5.0,\n",
    "            'Ltau': 0,\n",
    "            'NSweep': 100,\n",
    "            'NBin': 50,\n",
    "            'Dtau': dtau\n",
    "        },\n",
    "        branch='ALF-2.2',\n",
    "        alf_dir=os.getenv('ALF_DIR', './ALF')  # ,\n",
    "        # mpi=True,\n",
    "        # n_mpi=4\n",
    "    )\n",
    "    for dtau in [0.05, 0.1, 0.15] for b1 in [True, False]]\n",
    "\n",
    "# sims[0].compile()  # this is only needed if no crutial changes in sim dict have been made"
   ]
  },
  {
   "cell_type": "code",
   "execution_count": null,
   "metadata": {},
   "outputs": [],
   "source": [
    "for sim in sims:\n",
    "    sim.run()"
   ]
  },
  {
   "cell_type": "code",
   "execution_count": null,
   "metadata": {},
   "outputs": [],
   "source": [
    "import numpy as np\n",
    "import pandas as pd\n",
    "\n",
    "df = pd.DataFrame(columns=['E', 'dE', 'dtau', 'cb', 's', 'mz'])\n",
    "for sim in sims:\n",
    "    sim.analysis()\n",
    "    dict = sim.sim_dict\n",
    "    obs = sim.get_obs()\n",
    "    dtau = dict['Dtau']\n",
    "    cb = dict['Checkerboard']\n",
    "    s = dict['Symm']\n",
    "    mz = dict['Mz']\n",
    "    val = obs['Ener_scalJ']['obs'][0,0]\n",
    "    err = obs['Ener_scalJ']['obs'][0,1]\n",
    "    df = df.append({'E': val, 'dE': err, 'dtau': dtau, 'cb': cb, 's': s, 'Mz': mz}, ignore_index=True)\n"
   ]
  },
  {
   "cell_type": "code",
   "execution_count": 26,
   "metadata": {},
   "outputs": [
    {
     "data": {
      "image/png": "[encoded data removed]",
      "text/plain": [
       "<Figure size 506.25x506.25 with 1 Axes>"
      ]
     },
     "metadata": {
      "needs_background": "light"
     },
     "output_type": "display_data"
    }
   ],
   "source": [
    "import matplotlib.pyplot as plt\n",
    "import matplotlib as mpl\n",
    "\n",
    "plt.rcParams.update({\n",
    "    \"text.usetex\": True,\n",
    "    \"font.family\": \"sans-serif\",\n",
    "    \"font.sans-serif\": [\"Helvetica\"]})\n",
    "mpl.rcParams['figure.dpi'] = 150\n",
    "figsize=np.asarray(((3+3/8), (3+3/8)))\n",
    "\n",
    "plt.figure(figsize=figsize)\n",
    "ax = plt.subplot()\n",
    "for b1 in [True,False]:\n",
    "        data = df[(df['Mz']==b1)]\n",
    "        ax.errorbar(data['dtau']**2, data['E'], data['dE'], label=f\"Mz:{b1}\")\n",
    "ax.legend()\n",
    "ax.set_xlabel('$d\\\\tau^2$')\n",
    "ax.set_ylabel('$E/t$')\n",
    "plt.show()"
   ]
  }
 ],
 "metadata": {
  "interpreter": {
   "hash": "767d51c1340bd893661ea55ea3124f6de3c7a262a8b4abca0554b478b1e2ff90"
  },
  "kernelspec": {
   "display_name": "Python 3.8.10 64-bit",
   "language": "python",
   "name": "python3"
  },
  "language_info": {
   "codemirror_mode": {
    "name": "ipython",
    "version": 3
   },
   "file_extension": ".py",
   "mimetype": "text/x-python",
   "name": "python",
   "nbconvert_exporter": "python",
   "pygments_lexer": "ipython3",
   "version": "3.8.10"
  },
  "orig_nbformat": 4
 },
 "nbformat": 4,
 "nbformat_minor": 2
}
